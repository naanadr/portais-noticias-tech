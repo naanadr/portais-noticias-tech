{
 "cells": [
  {
   "cell_type": "markdown",
   "metadata": {},
   "source": [
    "# Imports"
   ]
  },
  {
   "cell_type": "code",
   "execution_count": 1,
   "metadata": {},
   "outputs": [],
   "source": [
    "import numpy as np\n",
    "import pandas as pd\n",
    "from pymongo import MongoClient"
   ]
  },
  {
   "cell_type": "markdown",
   "metadata": {},
   "source": [
    "# Conexão com o MongoDB"
   ]
  },
  {
   "cell_type": "code",
   "execution_count": 2,
   "metadata": {},
   "outputs": [],
   "source": [
    "client = MongoClient()\n",
    "collec = client['portaisnoticias']['tech']"
   ]
  },
  {
   "cell_type": "markdown",
   "metadata": {},
   "source": [
    "# Converter collection mongo para um DataFrame"
   ]
  },
  {
   "cell_type": "code",
   "execution_count": 4,
   "metadata": {},
   "outputs": [],
   "source": [
    "df_dict = {\n",
    "    '_id': [],\n",
    "    'spider': [], \n",
    "    'url': [], \n",
    "    'titulo': [], \n",
    "    'qtd_comentarios': [],\n",
    "    'autor': [],\n",
    "    'revisor': [], \n",
    "    'data_publicacao': [], \n",
    "    'referencias': [],\n",
    "    'tags': [],\n",
    "    'conteudo_relacionado': [],\n",
    "}\n",
    "\n",
    "for doc in collec.find({}):\n",
    "    for key, value in doc.items():\n",
    "        df_dict[key].append(value)\n",
    "        \n",
    "    for missing in set(df_dict.keys()).difference(set(doc.keys())):\n",
    "        df_dict[missing].append(None)\n",
    "    "
   ]
  },
  {
   "cell_type": "code",
   "execution_count": 5,
   "metadata": {},
   "outputs": [],
   "source": [
    "mongo_df = pd.DataFrame(df_dict)"
   ]
  },
  {
   "cell_type": "code",
   "execution_count": 6,
   "metadata": {},
   "outputs": [
    {
     "name": "stdout",
     "output_type": "stream",
     "text": [
      "<class 'pandas.core.frame.DataFrame'>\n",
      "RangeIndex: 138091 entries, 0 to 138090\n",
      "Data columns (total 11 columns):\n",
      " #   Column                Non-Null Count   Dtype         \n",
      "---  ------                --------------   -----         \n",
      " 0   _id                   138091 non-null  object        \n",
      " 1   spider                138091 non-null  object        \n",
      " 2   url                   138091 non-null  object        \n",
      " 3   titulo                138090 non-null  object        \n",
      " 4   qtd_comentarios       66748 non-null   float64       \n",
      " 5   autor                 137280 non-null  object        \n",
      " 6   revisor               29078 non-null   object        \n",
      " 7   data_publicacao       138091 non-null  datetime64[ns]\n",
      " 8   referencias           59660 non-null   object        \n",
      " 9   tags                  137027 non-null  object        \n",
      " 10  conteudo_relacionado  71959 non-null   object        \n",
      "dtypes: datetime64[ns](1), float64(1), object(9)\n",
      "memory usage: 11.6+ MB\n"
     ]
    }
   ],
   "source": [
    "mongo_df.info()"
   ]
  },
  {
   "cell_type": "code",
   "execution_count": 7,
   "metadata": {},
   "outputs": [
    {
     "data": {
      "text/html": [
       "<div>\n",
       "<style scoped>\n",
       "    .dataframe tbody tr th:only-of-type {\n",
       "        vertical-align: middle;\n",
       "    }\n",
       "\n",
       "    .dataframe tbody tr th {\n",
       "        vertical-align: top;\n",
       "    }\n",
       "\n",
       "    .dataframe thead th {\n",
       "        text-align: right;\n",
       "    }\n",
       "</style>\n",
       "<table border=\"1\" class=\"dataframe\">\n",
       "  <thead>\n",
       "    <tr style=\"text-align: right;\">\n",
       "      <th></th>\n",
       "      <th>_id</th>\n",
       "      <th>spider</th>\n",
       "      <th>url</th>\n",
       "      <th>titulo</th>\n",
       "      <th>qtd_comentarios</th>\n",
       "      <th>autor</th>\n",
       "      <th>revisor</th>\n",
       "      <th>data_publicacao</th>\n",
       "      <th>referencias</th>\n",
       "      <th>tags</th>\n",
       "      <th>conteudo_relacionado</th>\n",
       "    </tr>\n",
       "  </thead>\n",
       "  <tbody>\n",
       "    <tr>\n",
       "      <th>0</th>\n",
       "      <td>5e5461eeb27fbae055097ce5</td>\n",
       "      <td>olhardigital</td>\n",
       "      <td>https://olhardigital.com.br/noticia/vazamento-...</td>\n",
       "      <td>Vazamento indica sistema multitarefa do iPad p...</td>\n",
       "      <td>NaN</td>\n",
       "      <td>Luiz Nogueira</td>\n",
       "      <td>Cesar Schaeffer</td>\n",
       "      <td>2020-02-24 19:38:00</td>\n",
       "      <td>[https://www.cultofmac.com/686695/ios-14-multi...</td>\n",
       "      <td>[iphone, apple, ipad, ios, iphone 11 pro max, ...</td>\n",
       "      <td>[https://olhardigital.com.br/noticia/apple-dev...</td>\n",
       "    </tr>\n",
       "    <tr>\n",
       "      <th>1</th>\n",
       "      <td>5e5461eeb27fbae055097ce6</td>\n",
       "      <td>olhardigital</td>\n",
       "      <td>https://olhardigital.com.br/carros-e-tecnologi...</td>\n",
       "      <td>Falta de baterias faz Audi interromper produçã...</td>\n",
       "      <td>NaN</td>\n",
       "      <td>Luiz Nogueira</td>\n",
       "      <td>Cesar Schaeffer</td>\n",
       "      <td>2020-02-24 17:20:00</td>\n",
       "      <td>[https://www.bloomberg.com/news/articles/2020-...</td>\n",
       "      <td>[carro elétrico, tesla, audi, suv, veículo elé...</td>\n",
       "      <td>[https://olhardigital.com.br/noticia/primeiro-...</td>\n",
       "    </tr>\n",
       "    <tr>\n",
       "      <th>2</th>\n",
       "      <td>5e5461eeb27fbae055097ce7</td>\n",
       "      <td>olhardigital</td>\n",
       "      <td>https://olhardigital.com.br/noticia/essential-...</td>\n",
       "      <td>Essential Phone ganhará um gostinho do Android 11</td>\n",
       "      <td>NaN</td>\n",
       "      <td>Rafael Rigues</td>\n",
       "      <td>None</td>\n",
       "      <td>2020-02-24 17:49:00</td>\n",
       "      <td>[https://www.androidauthority.com/essential-ph...</td>\n",
       "      <td>[android, smartphone, android 11]</td>\n",
       "      <td>[https://olhardigital.com.br/games-e-consoles/...</td>\n",
       "    </tr>\n",
       "    <tr>\n",
       "      <th>3</th>\n",
       "      <td>5e5461eeb27fbae055097ce8</td>\n",
       "      <td>olhardigital</td>\n",
       "      <td>https://olhardigital.com.br/cinema-e-streaming...</td>\n",
       "      <td>Netflix libera lista de 'Top 10' para identifi...</td>\n",
       "      <td>NaN</td>\n",
       "      <td>Cesar Schaeffer</td>\n",
       "      <td>None</td>\n",
       "      <td>2020-02-24 18:00:00</td>\n",
       "      <td>None</td>\n",
       "      <td>[filmes, streaming, netflix, video, filmes onl...</td>\n",
       "      <td>[https://olhardigital.com.br/noticia/netflix-n...</td>\n",
       "    </tr>\n",
       "    <tr>\n",
       "      <th>4</th>\n",
       "      <td>5e5461eeb27fbae055097ce9</td>\n",
       "      <td>olhardigital</td>\n",
       "      <td>https://olhardigital.com.br/noticia/huawei-pre...</td>\n",
       "      <td>Huawei prepara lançamento de Smart Speaker na ...</td>\n",
       "      <td>NaN</td>\n",
       "      <td>Rafael Rigues</td>\n",
       "      <td>None</td>\n",
       "      <td>2020-02-24 16:25:00</td>\n",
       "      <td>[https://www.engadget.com/2020/02/24/huawei-so...</td>\n",
       "      <td>[huawei, caixa de som, google home, alexa, cai...</td>\n",
       "      <td>[https://olhardigital.com.br/noticia/huawei-p4...</td>\n",
       "    </tr>\n",
       "  </tbody>\n",
       "</table>\n",
       "</div>"
      ],
      "text/plain": [
       "                        _id        spider  \\\n",
       "0  5e5461eeb27fbae055097ce5  olhardigital   \n",
       "1  5e5461eeb27fbae055097ce6  olhardigital   \n",
       "2  5e5461eeb27fbae055097ce7  olhardigital   \n",
       "3  5e5461eeb27fbae055097ce8  olhardigital   \n",
       "4  5e5461eeb27fbae055097ce9  olhardigital   \n",
       "\n",
       "                                                 url  \\\n",
       "0  https://olhardigital.com.br/noticia/vazamento-...   \n",
       "1  https://olhardigital.com.br/carros-e-tecnologi...   \n",
       "2  https://olhardigital.com.br/noticia/essential-...   \n",
       "3  https://olhardigital.com.br/cinema-e-streaming...   \n",
       "4  https://olhardigital.com.br/noticia/huawei-pre...   \n",
       "\n",
       "                                              titulo  qtd_comentarios  \\\n",
       "0  Vazamento indica sistema multitarefa do iPad p...              NaN   \n",
       "1  Falta de baterias faz Audi interromper produçã...              NaN   \n",
       "2  Essential Phone ganhará um gostinho do Android 11              NaN   \n",
       "3  Netflix libera lista de 'Top 10' para identifi...              NaN   \n",
       "4  Huawei prepara lançamento de Smart Speaker na ...              NaN   \n",
       "\n",
       "             autor          revisor     data_publicacao  \\\n",
       "0    Luiz Nogueira  Cesar Schaeffer 2020-02-24 19:38:00   \n",
       "1    Luiz Nogueira  Cesar Schaeffer 2020-02-24 17:20:00   \n",
       "2    Rafael Rigues             None 2020-02-24 17:49:00   \n",
       "3  Cesar Schaeffer             None 2020-02-24 18:00:00   \n",
       "4    Rafael Rigues             None 2020-02-24 16:25:00   \n",
       "\n",
       "                                         referencias  \\\n",
       "0  [https://www.cultofmac.com/686695/ios-14-multi...   \n",
       "1  [https://www.bloomberg.com/news/articles/2020-...   \n",
       "2  [https://www.androidauthority.com/essential-ph...   \n",
       "3                                               None   \n",
       "4  [https://www.engadget.com/2020/02/24/huawei-so...   \n",
       "\n",
       "                                                tags  \\\n",
       "0  [iphone, apple, ipad, ios, iphone 11 pro max, ...   \n",
       "1  [carro elétrico, tesla, audi, suv, veículo elé...   \n",
       "2                  [android, smartphone, android 11]   \n",
       "3  [filmes, streaming, netflix, video, filmes onl...   \n",
       "4  [huawei, caixa de som, google home, alexa, cai...   \n",
       "\n",
       "                                conteudo_relacionado  \n",
       "0  [https://olhardigital.com.br/noticia/apple-dev...  \n",
       "1  [https://olhardigital.com.br/noticia/primeiro-...  \n",
       "2  [https://olhardigital.com.br/games-e-consoles/...  \n",
       "3  [https://olhardigital.com.br/noticia/netflix-n...  \n",
       "4  [https://olhardigital.com.br/noticia/huawei-p4...  "
      ]
     },
     "execution_count": 7,
     "metadata": {},
     "output_type": "execute_result"
    }
   ],
   "source": [
    "mongo_df.head()"
   ]
  },
  {
   "cell_type": "markdown",
   "metadata": {},
   "source": [
    "## Limpa caracteres errados no campo 'autor'"
   ]
  },
  {
   "cell_type": "code",
   "execution_count": 54,
   "metadata": {},
   "outputs": [],
   "source": [
    "def remove_(value):\n",
    "    if type(value) == str:\n",
    "        if '\\n' in value:\n",
    "            value = value.replace('\\n', '')\n",
    "        \n",
    "        value = value.strip()\n",
    "    \n",
    "    return value"
   ]
  },
  {
   "cell_type": "code",
   "execution_count": 55,
   "metadata": {},
   "outputs": [],
   "source": [
    "mongo_df['autor'] = mongo_df['autor'].apply(remove_)"
   ]
  },
  {
   "cell_type": "markdown",
   "metadata": {},
   "source": [
    "# Quantidade de noticias por site"
   ]
  },
  {
   "cell_type": "code",
   "execution_count": 8,
   "metadata": {},
   "outputs": [
    {
     "data": {
      "text/plain": [
       "spider\n",
       "olhardigital    71343\n",
       "tecmundo        66747\n",
       "Name: titulo, dtype: int64"
      ]
     },
     "execution_count": 8,
     "metadata": {},
     "output_type": "execute_result"
    }
   ],
   "source": [
    "mongo_df.groupby('spider')['titulo'].count()"
   ]
  },
  {
   "cell_type": "markdown",
   "metadata": {},
   "source": [
    "# Noticias por data de publicação\n",
    "\n",
    "Fazer uma comparação ano/mês com a quantidade de publicações "
   ]
  },
  {
   "cell_type": "code",
   "execution_count": 65,
   "metadata": {},
   "outputs": [
    {
     "data": {
      "text/plain": [
       "data_publicacao  data_publicacao\n",
       "2016             3                  2215\n",
       "2015             9                  2209\n",
       "2016             2                  2142\n",
       "2019             7                  2097\n",
       "2017             8                  2089\n",
       "2015             7                  2073\n",
       "2019             10                 2073\n",
       "2017             7                  2022\n",
       "2015             8                  2016\n",
       "2020             1                  2013\n",
       "Name: titulo, dtype: int64"
      ]
     },
     "execution_count": 65,
     "metadata": {},
     "output_type": "execute_result"
    }
   ],
   "source": [
    "times = pd.DatetimeIndex(mongo_df['data_publicacao'])\n",
    "noticias_ano = mongo_df.groupby([times.year, times.month])['titulo'].count()\n",
    "\n",
    "noticias_ano.nlargest(10)"
   ]
  },
  {
   "cell_type": "code",
   "execution_count": 64,
   "metadata": {},
   "outputs": [
    {
     "data": {
      "text/plain": [
       "data_publicacao  spider      \n",
       "2017             tecmundo        11938\n",
       "2016             tecmundo        11833\n",
       "2019             tecmundo        11118\n",
       "2018             tecmundo        11000\n",
       "2015             tecmundo        10962\n",
       "2019             olhardigital    10332\n",
       "2016             olhardigital     9273\n",
       "2017             olhardigital     6965\n",
       "2015             olhardigital     6933\n",
       "2018             olhardigital     6300\n",
       "Name: titulo, dtype: int64"
      ]
     },
     "execution_count": 64,
     "metadata": {},
     "output_type": "execute_result"
    }
   ],
   "source": [
    "times = pd.DatetimeIndex(mongo_df['data_publicacao'])\n",
    "noticias_ano = mongo_df.groupby([times.year, 'spider'])['titulo'].count()\n",
    "\n",
    "noticias_ano.nlargest(10)"
   ]
  },
  {
   "cell_type": "markdown",
   "metadata": {},
   "source": [
    "# Quantidade de noticias por autor"
   ]
  },
  {
   "cell_type": "code",
   "execution_count": 63,
   "metadata": {},
   "outputs": [
    {
     "data": {
      "text/plain": [
       "spider        autor                \n",
       "olhardigital  Redação Olhar Digital    10828\n",
       "              Renato  Santino           7322\n",
       "              Leonardo Pereira          6987\n",
       "              Caroline Rocha            5170\n",
       "tecmundo      Léo Müller                4580\n",
       "              Felipe Payão              4565\n",
       "olhardigital  Daniel Junqueira          4115\n",
       "tecmundo      Nilton Kleina             4083\n",
       "              Douglas Ciriaco           3646\n",
       "olhardigital  Lucas Carvalho            3492\n",
       "Name: titulo, dtype: int64"
      ]
     },
     "execution_count": 63,
     "metadata": {},
     "output_type": "execute_result"
    }
   ],
   "source": [
    "mongo_df.groupby(['spider', 'autor'])['titulo'].count().nlargest(10)"
   ]
  },
  {
   "cell_type": "code",
   "execution_count": 75,
   "metadata": {},
   "outputs": [
    {
     "data": {
      "text/plain": [
       "spider        revisor           autor             \n",
       "olhardigital  Igor Lopes        Daniel Junqueira      1126\n",
       "              Marcelo Gripa     Caroline Rocha        1042\n",
       "              Igor Lopes        Lucas Tavares          794\n",
       "              Marcelo Gripa     Renato  Santino        793\n",
       "              Leonardo Pereira  Caroline Rocha         762\n",
       "              Igor Lopes        Caio Carvalho          700\n",
       "              Marcelo Gripa     Gustavo Sumares        661\n",
       "                                Kaluan Bernardo        652\n",
       "              Leonardo Pereira  Gustavo Sumares        626\n",
       "                                Renato  Santino        579\n",
       "              Igor Lopes        Stephanie Kohn         570\n",
       "              Leonardo Pereira  Juliana  AmÃ©rico      558\n",
       "              Marcelo Gripa     Leonardo Pereira       518\n",
       "                                Jeferson Goncalves     472\n",
       "                                Juliana  AmÃ©rico      426\n",
       "                                Daniel Junqueira       372\n",
       "              Gustavo Sumares   Jeferson Goncalves     363\n",
       "              Leonardo Pereira  Lucas Carvalho         330\n",
       "              Marcelo Gripa     Luccas Franklin        319\n",
       "                                Lucas Carvalho         312\n",
       "Name: spider, dtype: int64"
      ]
     },
     "execution_count": 75,
     "metadata": {},
     "output_type": "execute_result"
    }
   ],
   "source": [
    "mongo_df.groupby(['spider', 'revisor', 'autor'])['spider'].count().nlargest(20)"
   ]
  },
  {
   "cell_type": "code",
   "execution_count": 76,
   "metadata": {},
   "outputs": [
    {
     "data": {
      "text/plain": [
       "spider        autor               revisor         \n",
       "olhardigital  Daniel Junqueira    Igor Lopes          1126\n",
       "              Caroline Rocha      Marcelo Gripa       1042\n",
       "              Lucas Tavares       Igor Lopes           794\n",
       "              Renato  Santino     Marcelo Gripa        793\n",
       "              Caroline Rocha      Leonardo Pereira     762\n",
       "              Caio Carvalho       Igor Lopes           700\n",
       "              Gustavo Sumares     Marcelo Gripa        661\n",
       "              Kaluan Bernardo     Marcelo Gripa        652\n",
       "              Gustavo Sumares     Leonardo Pereira     626\n",
       "              Renato  Santino     Leonardo Pereira     579\n",
       "              Stephanie Kohn      Igor Lopes           570\n",
       "              Juliana  AmÃ©rico   Leonardo Pereira     558\n",
       "              Leonardo Pereira    Marcelo Gripa        518\n",
       "              Jeferson Goncalves  Marcelo Gripa        472\n",
       "              Juliana  AmÃ©rico   Marcelo Gripa        426\n",
       "              Daniel Junqueira    Marcelo Gripa        372\n",
       "              Jeferson Goncalves  Gustavo Sumares      363\n",
       "              Lucas Carvalho      Leonardo Pereira     330\n",
       "              Luccas Franklin     Marcelo Gripa        319\n",
       "              Lucas Carvalho      Marcelo Gripa        312\n",
       "Name: spider, dtype: int64"
      ]
     },
     "execution_count": 76,
     "metadata": {},
     "output_type": "execute_result"
    }
   ],
   "source": [
    "mongo_df.groupby(['spider', 'autor', 'revisor'])['spider'].count().nlargest(20)"
   ]
  }
 ],
 "metadata": {
  "kernelspec": {
   "display_name": "Python 3",
   "language": "python",
   "name": "python3"
  },
  "language_info": {
   "codemirror_mode": {
    "name": "ipython",
    "version": 3
   },
   "file_extension": ".py",
   "mimetype": "text/x-python",
   "name": "python",
   "nbconvert_exporter": "python",
   "pygments_lexer": "ipython3",
   "version": "3.8.1"
  },
  "toc": {
   "base_numbering": 1,
   "nav_menu": {},
   "number_sections": true,
   "sideBar": true,
   "skip_h1_title": false,
   "title_cell": "Table of Contents",
   "title_sidebar": "Contents",
   "toc_cell": false,
   "toc_position": {},
   "toc_section_display": true,
   "toc_window_display": false
  }
 },
 "nbformat": 4,
 "nbformat_minor": 4
}
