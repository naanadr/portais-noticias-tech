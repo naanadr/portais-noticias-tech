{
 "cells": [
  {
   "cell_type": "markdown",
   "metadata": {},
   "source": [
    "# Imports"
   ]
  },
  {
   "cell_type": "code",
   "execution_count": 48,
   "metadata": {},
   "outputs": [],
   "source": [
    "import numpy as np\n",
    "import pandas as pd\n",
    "from pymongo import MongoClient"
   ]
  },
  {
   "cell_type": "markdown",
   "metadata": {},
   "source": [
    "# Conexão com o MongoDB"
   ]
  },
  {
   "cell_type": "code",
   "execution_count": 14,
   "metadata": {},
   "outputs": [],
   "source": [
    "client = MongoClient()\n",
    "collec = client['portaisnoticias']['tech']"
   ]
  },
  {
   "cell_type": "markdown",
   "metadata": {},
   "source": [
    "# Converter collection mongo para um DataFrame"
   ]
  },
  {
   "cell_type": "code",
   "execution_count": 149,
   "metadata": {},
   "outputs": [],
   "source": [
    "df_dict = {\n",
    "    '_id': [],\n",
    "    'spider': [], \n",
    "    'url': [], \n",
    "    'titulo': [], \n",
    "    'qtd_comentarios': [],\n",
    "    'autor': [],\n",
    "    'revisor': [], \n",
    "    'data_publicacao': [], \n",
    "    'referencias': [],\n",
    "    'tags': [],\n",
    "    'conteudo_relacionado': [],\n",
    "}\n",
    "\n",
    "for doc in collec.find({})[:50]:\n",
    "    for key, value in doc.items():\n",
    "        df_dict[key].append(value)\n",
    "        \n",
    "    for missing in set(df_dict.keys()).difference(set(doc.keys())):\n",
    "        df_dict[missing].append(None)\n",
    "    "
   ]
  },
  {
   "cell_type": "code",
   "execution_count": 150,
   "metadata": {},
   "outputs": [],
   "source": [
    "mongo_df = pd.DataFrame(df_dict)"
   ]
  },
  {
   "cell_type": "code",
   "execution_count": 151,
   "metadata": {},
   "outputs": [
    {
     "name": "stdout",
     "output_type": "stream",
     "text": [
      "<class 'pandas.core.frame.DataFrame'>\n",
      "RangeIndex: 50 entries, 0 to 49\n",
      "Data columns (total 11 columns):\n",
      " #   Column                Non-Null Count  Dtype         \n",
      "---  ------                --------------  -----         \n",
      " 0   _id                   50 non-null     object        \n",
      " 1   spider                50 non-null     object        \n",
      " 2   url                   50 non-null     object        \n",
      " 3   titulo                50 non-null     object        \n",
      " 4   qtd_comentarios       0 non-null      object        \n",
      " 5   autor                 50 non-null     object        \n",
      " 6   revisor               32 non-null     object        \n",
      " 7   data_publicacao       50 non-null     datetime64[ns]\n",
      " 8   referencias           35 non-null     object        \n",
      " 9   tags                  50 non-null     object        \n",
      " 10  conteudo_relacionado  45 non-null     object        \n",
      "dtypes: datetime64[ns](1), object(10)\n",
      "memory usage: 4.4+ KB\n"
     ]
    }
   ],
   "source": [
    "mongo_df.info()"
   ]
  },
  {
   "cell_type": "code",
   "execution_count": 152,
   "metadata": {},
   "outputs": [
    {
     "data": {
      "text/html": [
       "<div>\n",
       "<style scoped>\n",
       "    .dataframe tbody tr th:only-of-type {\n",
       "        vertical-align: middle;\n",
       "    }\n",
       "\n",
       "    .dataframe tbody tr th {\n",
       "        vertical-align: top;\n",
       "    }\n",
       "\n",
       "    .dataframe thead th {\n",
       "        text-align: right;\n",
       "    }\n",
       "</style>\n",
       "<table border=\"1\" class=\"dataframe\">\n",
       "  <thead>\n",
       "    <tr style=\"text-align: right;\">\n",
       "      <th></th>\n",
       "      <th>_id</th>\n",
       "      <th>spider</th>\n",
       "      <th>url</th>\n",
       "      <th>titulo</th>\n",
       "      <th>qtd_comentarios</th>\n",
       "      <th>autor</th>\n",
       "      <th>revisor</th>\n",
       "      <th>data_publicacao</th>\n",
       "      <th>referencias</th>\n",
       "      <th>tags</th>\n",
       "      <th>conteudo_relacionado</th>\n",
       "    </tr>\n",
       "  </thead>\n",
       "  <tbody>\n",
       "    <tr>\n",
       "      <th>0</th>\n",
       "      <td>5e5461eeb27fbae055097ce5</td>\n",
       "      <td>olhardigital</td>\n",
       "      <td>https://olhardigital.com.br/noticia/vazamento-...</td>\n",
       "      <td>Vazamento indica sistema multitarefa do iPad p...</td>\n",
       "      <td>None</td>\n",
       "      <td>Luiz Nogueira</td>\n",
       "      <td>Cesar Schaeffer</td>\n",
       "      <td>2020-02-24 19:38:00</td>\n",
       "      <td>[https://www.cultofmac.com/686695/ios-14-multi...</td>\n",
       "      <td>[iphone, apple, ipad, ios, iphone 11 pro max, ...</td>\n",
       "      <td>[https://olhardigital.com.br/noticia/apple-dev...</td>\n",
       "    </tr>\n",
       "    <tr>\n",
       "      <th>1</th>\n",
       "      <td>5e5461eeb27fbae055097ce6</td>\n",
       "      <td>olhardigital</td>\n",
       "      <td>https://olhardigital.com.br/carros-e-tecnologi...</td>\n",
       "      <td>Falta de baterias faz Audi interromper produçã...</td>\n",
       "      <td>None</td>\n",
       "      <td>Luiz Nogueira</td>\n",
       "      <td>Cesar Schaeffer</td>\n",
       "      <td>2020-02-24 17:20:00</td>\n",
       "      <td>[https://www.bloomberg.com/news/articles/2020-...</td>\n",
       "      <td>[carro elétrico, tesla, audi, suv, veículo elé...</td>\n",
       "      <td>[https://olhardigital.com.br/noticia/primeiro-...</td>\n",
       "    </tr>\n",
       "    <tr>\n",
       "      <th>2</th>\n",
       "      <td>5e5461eeb27fbae055097ce7</td>\n",
       "      <td>olhardigital</td>\n",
       "      <td>https://olhardigital.com.br/noticia/essential-...</td>\n",
       "      <td>Essential Phone ganhará um gostinho do Android 11</td>\n",
       "      <td>None</td>\n",
       "      <td>Rafael Rigues</td>\n",
       "      <td>None</td>\n",
       "      <td>2020-02-24 17:49:00</td>\n",
       "      <td>[https://www.androidauthority.com/essential-ph...</td>\n",
       "      <td>[android, smartphone, android 11]</td>\n",
       "      <td>[https://olhardigital.com.br/games-e-consoles/...</td>\n",
       "    </tr>\n",
       "    <tr>\n",
       "      <th>3</th>\n",
       "      <td>5e5461eeb27fbae055097ce8</td>\n",
       "      <td>olhardigital</td>\n",
       "      <td>https://olhardigital.com.br/cinema-e-streaming...</td>\n",
       "      <td>Netflix libera lista de 'Top 10' para identifi...</td>\n",
       "      <td>None</td>\n",
       "      <td>Cesar Schaeffer</td>\n",
       "      <td>None</td>\n",
       "      <td>2020-02-24 18:00:00</td>\n",
       "      <td>None</td>\n",
       "      <td>[filmes, streaming, netflix, video, filmes onl...</td>\n",
       "      <td>[https://olhardigital.com.br/noticia/netflix-n...</td>\n",
       "    </tr>\n",
       "    <tr>\n",
       "      <th>4</th>\n",
       "      <td>5e5461eeb27fbae055097ce9</td>\n",
       "      <td>olhardigital</td>\n",
       "      <td>https://olhardigital.com.br/noticia/huawei-pre...</td>\n",
       "      <td>Huawei prepara lançamento de Smart Speaker na ...</td>\n",
       "      <td>None</td>\n",
       "      <td>Rafael Rigues</td>\n",
       "      <td>None</td>\n",
       "      <td>2020-02-24 16:25:00</td>\n",
       "      <td>[https://www.engadget.com/2020/02/24/huawei-so...</td>\n",
       "      <td>[huawei, caixa de som, google home, alexa, cai...</td>\n",
       "      <td>[https://olhardigital.com.br/noticia/huawei-p4...</td>\n",
       "    </tr>\n",
       "  </tbody>\n",
       "</table>\n",
       "</div>"
      ],
      "text/plain": [
       "                        _id        spider  \\\n",
       "0  5e5461eeb27fbae055097ce5  olhardigital   \n",
       "1  5e5461eeb27fbae055097ce6  olhardigital   \n",
       "2  5e5461eeb27fbae055097ce7  olhardigital   \n",
       "3  5e5461eeb27fbae055097ce8  olhardigital   \n",
       "4  5e5461eeb27fbae055097ce9  olhardigital   \n",
       "\n",
       "                                                 url  \\\n",
       "0  https://olhardigital.com.br/noticia/vazamento-...   \n",
       "1  https://olhardigital.com.br/carros-e-tecnologi...   \n",
       "2  https://olhardigital.com.br/noticia/essential-...   \n",
       "3  https://olhardigital.com.br/cinema-e-streaming...   \n",
       "4  https://olhardigital.com.br/noticia/huawei-pre...   \n",
       "\n",
       "                                              titulo qtd_comentarios  \\\n",
       "0  Vazamento indica sistema multitarefa do iPad p...            None   \n",
       "1  Falta de baterias faz Audi interromper produçã...            None   \n",
       "2  Essential Phone ganhará um gostinho do Android 11            None   \n",
       "3  Netflix libera lista de 'Top 10' para identifi...            None   \n",
       "4  Huawei prepara lançamento de Smart Speaker na ...            None   \n",
       "\n",
       "             autor          revisor     data_publicacao  \\\n",
       "0    Luiz Nogueira  Cesar Schaeffer 2020-02-24 19:38:00   \n",
       "1    Luiz Nogueira  Cesar Schaeffer 2020-02-24 17:20:00   \n",
       "2    Rafael Rigues             None 2020-02-24 17:49:00   \n",
       "3  Cesar Schaeffer             None 2020-02-24 18:00:00   \n",
       "4    Rafael Rigues             None 2020-02-24 16:25:00   \n",
       "\n",
       "                                         referencias  \\\n",
       "0  [https://www.cultofmac.com/686695/ios-14-multi...   \n",
       "1  [https://www.bloomberg.com/news/articles/2020-...   \n",
       "2  [https://www.androidauthority.com/essential-ph...   \n",
       "3                                               None   \n",
       "4  [https://www.engadget.com/2020/02/24/huawei-so...   \n",
       "\n",
       "                                                tags  \\\n",
       "0  [iphone, apple, ipad, ios, iphone 11 pro max, ...   \n",
       "1  [carro elétrico, tesla, audi, suv, veículo elé...   \n",
       "2                  [android, smartphone, android 11]   \n",
       "3  [filmes, streaming, netflix, video, filmes onl...   \n",
       "4  [huawei, caixa de som, google home, alexa, cai...   \n",
       "\n",
       "                                conteudo_relacionado  \n",
       "0  [https://olhardigital.com.br/noticia/apple-dev...  \n",
       "1  [https://olhardigital.com.br/noticia/primeiro-...  \n",
       "2  [https://olhardigital.com.br/games-e-consoles/...  \n",
       "3  [https://olhardigital.com.br/noticia/netflix-n...  \n",
       "4  [https://olhardigital.com.br/noticia/huawei-p4...  "
      ]
     },
     "execution_count": 152,
     "metadata": {},
     "output_type": "execute_result"
    }
   ],
   "source": [
    "mongo_df.head()"
   ]
  },
  {
   "cell_type": "markdown",
   "metadata": {},
   "source": [
    "# Quantidade de noticias por site"
   ]
  },
  {
   "cell_type": "code",
   "execution_count": 130,
   "metadata": {},
   "outputs": [
    {
     "data": {
      "text/plain": [
       "spider\n",
       "olhardigital    10\n",
       "Name: titulo, dtype: int64"
      ]
     },
     "execution_count": 130,
     "metadata": {},
     "output_type": "execute_result"
    }
   ],
   "source": [
    "mongo_df.groupby('spider')['titulo'].count()"
   ]
  },
  {
   "cell_type": "markdown",
   "metadata": {},
   "source": [
    "# Noticias por hora de publicação"
   ]
  },
  {
   "cell_type": "code",
   "execution_count": 154,
   "metadata": {},
   "outputs": [
    {
     "data": {
      "text/plain": [
       "data_publicacao\n",
       "11     1\n",
       "12     2\n",
       "13     1\n",
       "14     3\n",
       "15     6\n",
       "16    12\n",
       "17     7\n",
       "18     7\n",
       "19    10\n",
       "20     1\n",
       "Name: titulo, dtype: int64"
      ]
     },
     "execution_count": 154,
     "metadata": {},
     "output_type": "execute_result"
    }
   ],
   "source": [
    "times = pd.DatetimeIndex(mongo_df['data_publicacao'])\n",
    "mongo_df.groupby([times.hour])['titulo'].count()"
   ]
  },
  {
   "cell_type": "code",
   "execution_count": 138,
   "metadata": {},
   "outputs": [
    {
     "data": {
      "text/html": [
       "<div>\n",
       "<style scoped>\n",
       "    .dataframe tbody tr th:only-of-type {\n",
       "        vertical-align: middle;\n",
       "    }\n",
       "\n",
       "    .dataframe tbody tr th {\n",
       "        vertical-align: top;\n",
       "    }\n",
       "\n",
       "    .dataframe thead th {\n",
       "        text-align: right;\n",
       "    }\n",
       "</style>\n",
       "<table border=\"1\" class=\"dataframe\">\n",
       "  <thead>\n",
       "    <tr style=\"text-align: right;\">\n",
       "      <th></th>\n",
       "      <th>_id</th>\n",
       "      <th>spider</th>\n",
       "      <th>url</th>\n",
       "      <th>titulo</th>\n",
       "      <th>qtd_comentarios</th>\n",
       "      <th>autor</th>\n",
       "      <th>revisor</th>\n",
       "      <th>referencias</th>\n",
       "      <th>tags</th>\n",
       "      <th>conteudo_relacionado</th>\n",
       "    </tr>\n",
       "    <tr>\n",
       "      <th>data_publicacao</th>\n",
       "      <th></th>\n",
       "      <th></th>\n",
       "      <th></th>\n",
       "      <th></th>\n",
       "      <th></th>\n",
       "      <th></th>\n",
       "      <th></th>\n",
       "      <th></th>\n",
       "      <th></th>\n",
       "      <th></th>\n",
       "    </tr>\n",
       "  </thead>\n",
       "  <tbody>\n",
       "    <tr>\n",
       "      <th>2020-02-24 16:25:00</th>\n",
       "      <td>1</td>\n",
       "      <td>1</td>\n",
       "      <td>1</td>\n",
       "      <td>1</td>\n",
       "      <td>0</td>\n",
       "      <td>1</td>\n",
       "      <td>0</td>\n",
       "      <td>1</td>\n",
       "      <td>1</td>\n",
       "      <td>1</td>\n",
       "    </tr>\n",
       "    <tr>\n",
       "      <th>2020-02-24 16:30:00</th>\n",
       "      <td>1</td>\n",
       "      <td>1</td>\n",
       "      <td>1</td>\n",
       "      <td>1</td>\n",
       "      <td>0</td>\n",
       "      <td>1</td>\n",
       "      <td>1</td>\n",
       "      <td>1</td>\n",
       "      <td>1</td>\n",
       "      <td>1</td>\n",
       "    </tr>\n",
       "    <tr>\n",
       "      <th>2020-02-24 16:40:00</th>\n",
       "      <td>1</td>\n",
       "      <td>1</td>\n",
       "      <td>1</td>\n",
       "      <td>1</td>\n",
       "      <td>0</td>\n",
       "      <td>1</td>\n",
       "      <td>0</td>\n",
       "      <td>1</td>\n",
       "      <td>1</td>\n",
       "      <td>1</td>\n",
       "    </tr>\n",
       "    <tr>\n",
       "      <th>2020-02-24 16:50:00</th>\n",
       "      <td>1</td>\n",
       "      <td>1</td>\n",
       "      <td>1</td>\n",
       "      <td>1</td>\n",
       "      <td>0</td>\n",
       "      <td>1</td>\n",
       "      <td>1</td>\n",
       "      <td>1</td>\n",
       "      <td>1</td>\n",
       "      <td>1</td>\n",
       "    </tr>\n",
       "    <tr>\n",
       "      <th>2020-02-24 17:02:00</th>\n",
       "      <td>1</td>\n",
       "      <td>1</td>\n",
       "      <td>1</td>\n",
       "      <td>1</td>\n",
       "      <td>0</td>\n",
       "      <td>1</td>\n",
       "      <td>0</td>\n",
       "      <td>1</td>\n",
       "      <td>1</td>\n",
       "      <td>0</td>\n",
       "    </tr>\n",
       "    <tr>\n",
       "      <th>2020-02-24 17:11:00</th>\n",
       "      <td>1</td>\n",
       "      <td>1</td>\n",
       "      <td>1</td>\n",
       "      <td>1</td>\n",
       "      <td>0</td>\n",
       "      <td>1</td>\n",
       "      <td>1</td>\n",
       "      <td>1</td>\n",
       "      <td>1</td>\n",
       "      <td>1</td>\n",
       "    </tr>\n",
       "    <tr>\n",
       "      <th>2020-02-24 17:20:00</th>\n",
       "      <td>1</td>\n",
       "      <td>1</td>\n",
       "      <td>1</td>\n",
       "      <td>1</td>\n",
       "      <td>0</td>\n",
       "      <td>1</td>\n",
       "      <td>1</td>\n",
       "      <td>1</td>\n",
       "      <td>1</td>\n",
       "      <td>1</td>\n",
       "    </tr>\n",
       "    <tr>\n",
       "      <th>2020-02-24 17:49:00</th>\n",
       "      <td>1</td>\n",
       "      <td>1</td>\n",
       "      <td>1</td>\n",
       "      <td>1</td>\n",
       "      <td>0</td>\n",
       "      <td>1</td>\n",
       "      <td>0</td>\n",
       "      <td>1</td>\n",
       "      <td>1</td>\n",
       "      <td>1</td>\n",
       "    </tr>\n",
       "    <tr>\n",
       "      <th>2020-02-24 18:00:00</th>\n",
       "      <td>1</td>\n",
       "      <td>1</td>\n",
       "      <td>1</td>\n",
       "      <td>1</td>\n",
       "      <td>0</td>\n",
       "      <td>1</td>\n",
       "      <td>0</td>\n",
       "      <td>0</td>\n",
       "      <td>1</td>\n",
       "      <td>1</td>\n",
       "    </tr>\n",
       "    <tr>\n",
       "      <th>2020-02-24 19:38:00</th>\n",
       "      <td>1</td>\n",
       "      <td>1</td>\n",
       "      <td>1</td>\n",
       "      <td>1</td>\n",
       "      <td>0</td>\n",
       "      <td>1</td>\n",
       "      <td>1</td>\n",
       "      <td>1</td>\n",
       "      <td>1</td>\n",
       "      <td>1</td>\n",
       "    </tr>\n",
       "  </tbody>\n",
       "</table>\n",
       "</div>"
      ],
      "text/plain": [
       "                     _id  spider  url  titulo  qtd_comentarios  autor  \\\n",
       "data_publicacao                                                         \n",
       "2020-02-24 16:25:00    1       1    1       1                0      1   \n",
       "2020-02-24 16:30:00    1       1    1       1                0      1   \n",
       "2020-02-24 16:40:00    1       1    1       1                0      1   \n",
       "2020-02-24 16:50:00    1       1    1       1                0      1   \n",
       "2020-02-24 17:02:00    1       1    1       1                0      1   \n",
       "2020-02-24 17:11:00    1       1    1       1                0      1   \n",
       "2020-02-24 17:20:00    1       1    1       1                0      1   \n",
       "2020-02-24 17:49:00    1       1    1       1                0      1   \n",
       "2020-02-24 18:00:00    1       1    1       1                0      1   \n",
       "2020-02-24 19:38:00    1       1    1       1                0      1   \n",
       "\n",
       "                     revisor  referencias  tags  conteudo_relacionado  \n",
       "data_publicacao                                                        \n",
       "2020-02-24 16:25:00        0            1     1                     1  \n",
       "2020-02-24 16:30:00        1            1     1                     1  \n",
       "2020-02-24 16:40:00        0            1     1                     1  \n",
       "2020-02-24 16:50:00        1            1     1                     1  \n",
       "2020-02-24 17:02:00        0            1     1                     0  \n",
       "2020-02-24 17:11:00        1            1     1                     1  \n",
       "2020-02-24 17:20:00        1            1     1                     1  \n",
       "2020-02-24 17:49:00        0            1     1                     1  \n",
       "2020-02-24 18:00:00        0            0     1                     1  \n",
       "2020-02-24 19:38:00        1            1     1                     1  "
      ]
     },
     "execution_count": 138,
     "metadata": {},
     "output_type": "execute_result"
    }
   ],
   "source": [
    "mongo_df.groupby('data_publicacao').count()"
   ]
  },
  {
   "cell_type": "markdown",
   "metadata": {},
   "source": [
    "# Quantidade de noticias por autor"
   ]
  },
  {
   "cell_type": "code",
   "execution_count": 124,
   "metadata": {},
   "outputs": [
    {
     "data": {
      "text/plain": [
       "autor\n",
       "Cesar Schaeffer    3\n",
       "Luiz Nogueira      4\n",
       "Rafael Rigues      3\n",
       "Name: spider, dtype: int64"
      ]
     },
     "execution_count": 124,
     "metadata": {},
     "output_type": "execute_result"
    }
   ],
   "source": [
    "mongo_df.groupby('autor')['spider'].count()"
   ]
  },
  {
   "cell_type": "code",
   "execution_count": 125,
   "metadata": {},
   "outputs": [
    {
     "data": {
      "text/plain": [
       "revisor\n",
       "Cesar Schaeffer    5\n",
       "Name: spider, dtype: int64"
      ]
     },
     "execution_count": 125,
     "metadata": {},
     "output_type": "execute_result"
    }
   ],
   "source": [
    "mongo_df.groupby('revisor')['spider'].count()"
   ]
  },
  {
   "cell_type": "code",
   "execution_count": 128,
   "metadata": {},
   "outputs": [
    {
     "data": {
      "text/plain": [
       "autor          revisor        \n",
       "Luiz Nogueira  Cesar Schaeffer    4\n",
       "Rafael Rigues  Cesar Schaeffer    1\n",
       "Name: spider, dtype: int64"
      ]
     },
     "execution_count": 128,
     "metadata": {},
     "output_type": "execute_result"
    }
   ],
   "source": [
    "mongo_df.groupby(['autor', 'revisor'])['spider'].count()"
   ]
  }
 ],
 "metadata": {
  "kernelspec": {
   "display_name": "Python 3",
   "language": "python",
   "name": "python3"
  },
  "language_info": {
   "codemirror_mode": {
    "name": "ipython",
    "version": 3
   },
   "file_extension": ".py",
   "mimetype": "text/x-python",
   "name": "python",
   "nbconvert_exporter": "python",
   "pygments_lexer": "ipython3",
   "version": "3.8.1"
  },
  "toc": {
   "base_numbering": 1,
   "nav_menu": {},
   "number_sections": true,
   "sideBar": true,
   "skip_h1_title": false,
   "title_cell": "Table of Contents",
   "title_sidebar": "Contents",
   "toc_cell": false,
   "toc_position": {},
   "toc_section_display": true,
   "toc_window_display": false
  }
 },
 "nbformat": 4,
 "nbformat_minor": 4
}
