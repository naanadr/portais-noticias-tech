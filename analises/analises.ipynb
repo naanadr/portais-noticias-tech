{
 "cells": [
  {
   "cell_type": "markdown",
   "metadata": {},
   "source": [
    "# Imports"
   ]
  },
  {
   "cell_type": "code",
   "execution_count": 1,
   "metadata": {},
   "outputs": [],
   "source": [
    "import numpy as np\n",
    "import pandas as pd"
   ]
  },
  {
   "cell_type": "markdown",
   "metadata": {},
   "source": [
    "# Leitura dos dados"
   ]
  },
  {
   "cell_type": "markdown",
   "metadata": {},
   "source": [
    "## Utilizando o MongoDB\n",
    "\n",
    "Caso você queirá pegar a extração de um MongoDB"
   ]
  },
  {
   "cell_type": "code",
   "execution_count": 2,
   "metadata": {},
   "outputs": [],
   "source": [
    "from pymongo import MongoClient"
   ]
  },
  {
   "cell_type": "code",
   "execution_count": 3,
   "metadata": {},
   "outputs": [],
   "source": [
    "client = MongoClient()\n",
    "collec = client['portaisnoticias']['tech']"
   ]
  },
  {
   "cell_type": "markdown",
   "metadata": {},
   "source": [
    "### Transferir os dados de uma collection mongo para um DataFrame"
   ]
  },
  {
   "cell_type": "code",
   "execution_count": 4,
   "metadata": {},
   "outputs": [],
   "source": [
    "df_dict = {\n",
    "    '_id': [],\n",
    "    'spider': [], \n",
    "    'url': [], \n",
    "    'titulo': [], \n",
    "    'qtd_comentarios': [],\n",
    "    'autor': [],\n",
    "    'revisor': [], \n",
    "    'data_publicacao': [], \n",
    "    'referencias': [],\n",
    "    'tags': [],\n",
    "    'conteudo_relacionado': [],\n",
    "}\n",
    "\n",
    "for doc in collec.find({}):\n",
    "    for key, value in doc.items():\n",
    "        df_dict[key].append(value)\n",
    "        \n",
    "    for missing in set(df_dict.keys()).difference(set(doc.keys())):\n",
    "        df_dict[missing].append(None)\n",
    "    "
   ]
  },
  {
   "cell_type": "markdown",
   "metadata": {},
   "source": [
    "Essa váriavel `df_noticias` é a qu"
   ]
  },
  {
   "cell_type": "code",
   "execution_count": 5,
   "metadata": {},
   "outputs": [],
   "source": [
    "df_noticias = pd.DataFrame(df_dict)"
   ]
  },
  {
   "cell_type": "markdown",
   "metadata": {},
   "source": [
    "## Utilizando Json\n",
    "\n",
    "Caso você queira pegar os dados salvos nos jsons gerados pelas spiders"
   ]
  },
  {
   "cell_type": "code",
   "execution_count": 3,
   "metadata": {},
   "outputs": [],
   "source": [
    "import glob \n",
    "\n",
    "datas_jl = glob.glob('../portais_tech/*.jsonl')"
   ]
  },
  {
   "cell_type": "code",
   "execution_count": 4,
   "metadata": {},
   "outputs": [],
   "source": [
    "df_list = []\n",
    "\n",
    "for file in datas_jl:\n",
    "    df = pd.read_json(file, lines=True)\n",
    "    \n",
    "    df_list.append(df)\n",
    "\n",
    "if len(df_list) > 1:\n",
    "    df_noticias = pd.concat(df_list)\n",
    "else:\n",
    "    df_noticias = df_list[0]"
   ]
  },
  {
   "cell_type": "markdown",
   "metadata": {},
   "source": [
    "# Trabalhando com um DataFrame\n",
    "\n",
    "Vamos utilizar o `df_noticias` instânciado com os dados extraídos pelas spiders."
   ]
  },
  {
   "cell_type": "code",
   "execution_count": 5,
   "metadata": {},
   "outputs": [
    {
     "name": "stdout",
     "output_type": "stream",
     "text": [
      "<class 'pandas.core.frame.DataFrame'>\n",
      "Int64Index: 107158 entries, 0 to 59157\n",
      "Data columns (total 10 columns):\n",
      " #   Column                Non-Null Count   Dtype  \n",
      "---  ------                --------------   -----  \n",
      " 0   spider                107158 non-null  object \n",
      " 1   url                   107158 non-null  object \n",
      " 2   titulo                107158 non-null  object \n",
      " 3   autor                 107158 non-null  object \n",
      " 4   data_publicacao       107158 non-null  object \n",
      " 5   conteudo_relacionado  64986 non-null   object \n",
      " 6   tags                  107118 non-null  object \n",
      " 7   referencias           52581 non-null   object \n",
      " 8   revisor               22095 non-null   object \n",
      " 9   qtd_comentarios       59158 non-null   float64\n",
      "dtypes: float64(1), object(9)\n",
      "memory usage: 9.0+ MB\n"
     ]
    }
   ],
   "source": [
    "df_noticias.info()"
   ]
  },
  {
   "cell_type": "code",
   "execution_count": 6,
   "metadata": {},
   "outputs": [
    {
     "data": {
      "text/html": [
       "<div>\n",
       "<style scoped>\n",
       "    .dataframe tbody tr th:only-of-type {\n",
       "        vertical-align: middle;\n",
       "    }\n",
       "\n",
       "    .dataframe tbody tr th {\n",
       "        vertical-align: top;\n",
       "    }\n",
       "\n",
       "    .dataframe thead th {\n",
       "        text-align: right;\n",
       "    }\n",
       "</style>\n",
       "<table border=\"1\" class=\"dataframe\">\n",
       "  <thead>\n",
       "    <tr style=\"text-align: right;\">\n",
       "      <th></th>\n",
       "      <th>spider</th>\n",
       "      <th>url</th>\n",
       "      <th>titulo</th>\n",
       "      <th>autor</th>\n",
       "      <th>data_publicacao</th>\n",
       "      <th>conteudo_relacionado</th>\n",
       "      <th>tags</th>\n",
       "      <th>referencias</th>\n",
       "      <th>revisor</th>\n",
       "      <th>qtd_comentarios</th>\n",
       "    </tr>\n",
       "  </thead>\n",
       "  <tbody>\n",
       "    <tr>\n",
       "      <th>0</th>\n",
       "      <td>olhardigital</td>\n",
       "      <td>https://olhardigital.com.br/carros-e-tecnologi...</td>\n",
       "      <td>Revelado conceito do primeiro sedan elétrico q...</td>\n",
       "      <td>Renato Mota</td>\n",
       "      <td>2020-02-25T12:30:00</td>\n",
       "      <td>[https://olhardigital.com.br/carros-e-tecnolog...</td>\n",
       "      <td>[sustentabilidade, carro, carro elétrico, volv...</td>\n",
       "      <td>[https://www.theverge.com/2020/2/25/21151592/p...</td>\n",
       "      <td>Fabiana Rolfini</td>\n",
       "      <td>NaN</td>\n",
       "    </tr>\n",
       "    <tr>\n",
       "      <th>1</th>\n",
       "      <td>olhardigital</td>\n",
       "      <td>https://olhardigital.com.br/ciencia-e-espaco/n...</td>\n",
       "      <td>Não vai ter supernova? Lentamente, Betelgeuse ...</td>\n",
       "      <td>Renato Mota</td>\n",
       "      <td>2020-02-25T13:02:00</td>\n",
       "      <td>[https://olhardigital.com.br/ciencia-e-espaco/...</td>\n",
       "      <td>[espaço, estrelas, supernova, ciência&amp;espaço]</td>\n",
       "      <td>[https://www.sciencealert.com/betelgeuse-has-o...</td>\n",
       "      <td>NaN</td>\n",
       "      <td>NaN</td>\n",
       "    </tr>\n",
       "    <tr>\n",
       "      <th>2</th>\n",
       "      <td>olhardigital</td>\n",
       "      <td>https://olhardigital.com.br/fique_seguro/notic...</td>\n",
       "      <td>Microsoft quer dificultar a criação e uso de c...</td>\n",
       "      <td>Luiz Nogueira</td>\n",
       "      <td>2020-02-25T19:30:00</td>\n",
       "      <td>[https://olhardigital.com.br/dicas_e_tutoriais...</td>\n",
       "      <td>[segurança, microsoft, sistema operacional, wi...</td>\n",
       "      <td>[https://mspoweruser.com/microsoft-extends-plo...</td>\n",
       "      <td>Cesar Schaeffer</td>\n",
       "      <td>NaN</td>\n",
       "    </tr>\n",
       "    <tr>\n",
       "      <th>3</th>\n",
       "      <td>olhardigital</td>\n",
       "      <td>https://olhardigital.com.br/noticia/apple-watc...</td>\n",
       "      <td>Apple Watch será avaliado sobre capacidade de ...</td>\n",
       "      <td>Guilherme Preta</td>\n",
       "      <td>2020-02-25T13:44:00</td>\n",
       "      <td>[https://olhardigital.com.br/noticia/apple-vai...</td>\n",
       "      <td>[saúde, apple, apple watch, sistema de saúde]</td>\n",
       "      <td>[https://www.macrumors.com/2020/02/25/apple-he...</td>\n",
       "      <td>Fabiana Rolfini</td>\n",
       "      <td>NaN</td>\n",
       "    </tr>\n",
       "    <tr>\n",
       "      <th>4</th>\n",
       "      <td>olhardigital</td>\n",
       "      <td>https://olhardigital.com.br/ciencia-e-espaco/n...</td>\n",
       "      <td>Astrônomos encontram exoplaneta por meio da au...</td>\n",
       "      <td>Guilherme Preta</td>\n",
       "      <td>2020-02-25T12:20:00</td>\n",
       "      <td>[https://olhardigital.com.br/ciencia-e-espaco/...</td>\n",
       "      <td>[espaço, júpiter, exoplanetas, via láctea, ciê...</td>\n",
       "      <td>[https://www.wired.com/story/a-stars-auroras-l...</td>\n",
       "      <td>Fabiana Rolfini</td>\n",
       "      <td>NaN</td>\n",
       "    </tr>\n",
       "  </tbody>\n",
       "</table>\n",
       "</div>"
      ],
      "text/plain": [
       "         spider                                                url  \\\n",
       "0  olhardigital  https://olhardigital.com.br/carros-e-tecnologi...   \n",
       "1  olhardigital  https://olhardigital.com.br/ciencia-e-espaco/n...   \n",
       "2  olhardigital  https://olhardigital.com.br/fique_seguro/notic...   \n",
       "3  olhardigital  https://olhardigital.com.br/noticia/apple-watc...   \n",
       "4  olhardigital  https://olhardigital.com.br/ciencia-e-espaco/n...   \n",
       "\n",
       "                                              titulo            autor  \\\n",
       "0  Revelado conceito do primeiro sedan elétrico q...      Renato Mota   \n",
       "1  Não vai ter supernova? Lentamente, Betelgeuse ...      Renato Mota   \n",
       "2  Microsoft quer dificultar a criação e uso de c...    Luiz Nogueira   \n",
       "3  Apple Watch será avaliado sobre capacidade de ...  Guilherme Preta   \n",
       "4  Astrônomos encontram exoplaneta por meio da au...  Guilherme Preta   \n",
       "\n",
       "       data_publicacao                               conteudo_relacionado  \\\n",
       "0  2020-02-25T12:30:00  [https://olhardigital.com.br/carros-e-tecnolog...   \n",
       "1  2020-02-25T13:02:00  [https://olhardigital.com.br/ciencia-e-espaco/...   \n",
       "2  2020-02-25T19:30:00  [https://olhardigital.com.br/dicas_e_tutoriais...   \n",
       "3  2020-02-25T13:44:00  [https://olhardigital.com.br/noticia/apple-vai...   \n",
       "4  2020-02-25T12:20:00  [https://olhardigital.com.br/ciencia-e-espaco/...   \n",
       "\n",
       "                                                tags  \\\n",
       "0  [sustentabilidade, carro, carro elétrico, volv...   \n",
       "1      [espaço, estrelas, supernova, ciência&espaço]   \n",
       "2  [segurança, microsoft, sistema operacional, wi...   \n",
       "3      [saúde, apple, apple watch, sistema de saúde]   \n",
       "4  [espaço, júpiter, exoplanetas, via láctea, ciê...   \n",
       "\n",
       "                                         referencias          revisor  \\\n",
       "0  [https://www.theverge.com/2020/2/25/21151592/p...  Fabiana Rolfini   \n",
       "1  [https://www.sciencealert.com/betelgeuse-has-o...              NaN   \n",
       "2  [https://mspoweruser.com/microsoft-extends-plo...  Cesar Schaeffer   \n",
       "3  [https://www.macrumors.com/2020/02/25/apple-he...  Fabiana Rolfini   \n",
       "4  [https://www.wired.com/story/a-stars-auroras-l...  Fabiana Rolfini   \n",
       "\n",
       "   qtd_comentarios  \n",
       "0              NaN  \n",
       "1              NaN  \n",
       "2              NaN  \n",
       "3              NaN  \n",
       "4              NaN  "
      ]
     },
     "execution_count": 6,
     "metadata": {},
     "output_type": "execute_result"
    }
   ],
   "source": [
    "df_noticias.head()"
   ]
  },
  {
   "cell_type": "markdown",
   "metadata": {},
   "source": [
    "## Encontrar elementos duplicados"
   ]
  },
  {
   "cell_type": "markdown",
   "metadata": {},
   "source": [
    "Quando se utiliza o `titulo` como item verificador da duplicação, obtemos uma quantidade significativa de resultados:"
   ]
  },
  {
   "cell_type": "code",
   "execution_count": 55,
   "metadata": {},
   "outputs": [
    {
     "data": {
      "text/html": [
       "<div>\n",
       "<style scoped>\n",
       "    .dataframe tbody tr th:only-of-type {\n",
       "        vertical-align: middle;\n",
       "    }\n",
       "\n",
       "    .dataframe tbody tr th {\n",
       "        vertical-align: top;\n",
       "    }\n",
       "\n",
       "    .dataframe thead th {\n",
       "        text-align: right;\n",
       "    }\n",
       "</style>\n",
       "<table border=\"1\" class=\"dataframe\">\n",
       "  <thead>\n",
       "    <tr style=\"text-align: right;\">\n",
       "      <th></th>\n",
       "      <th>spider</th>\n",
       "      <th>url</th>\n",
       "      <th>titulo</th>\n",
       "      <th>autor</th>\n",
       "      <th>data_publicacao</th>\n",
       "      <th>conteudo_relacionado</th>\n",
       "      <th>tags</th>\n",
       "      <th>referencias</th>\n",
       "      <th>revisor</th>\n",
       "      <th>qtd_comentarios</th>\n",
       "    </tr>\n",
       "  </thead>\n",
       "  <tbody>\n",
       "    <tr>\n",
       "      <th>274</th>\n",
       "      <td>olhardigital</td>\n",
       "      <td>https://olhardigital.com.br/dicas_e_tutoriais/...</td>\n",
       "      <td>Os melhores aplicativos e jogos da semana para...</td>\n",
       "      <td>Alvaro Scola</td>\n",
       "      <td>2020-02-14T10:50:00</td>\n",
       "      <td>[https://olhardigital.com.br/noticia/android-p...</td>\n",
       "      <td>[aplicativos, android, dicas, google play, jog...</td>\n",
       "      <td>NaN</td>\n",
       "      <td>NaN</td>\n",
       "      <td>NaN</td>\n",
       "    </tr>\n",
       "    <tr>\n",
       "      <th>428</th>\n",
       "      <td>olhardigital</td>\n",
       "      <td>https://olhardigital.com.br/dicas_e_tutoriais/...</td>\n",
       "      <td>Os melhores aplicativos e jogos da semana para...</td>\n",
       "      <td>Luiz Nogueira</td>\n",
       "      <td>2020-02-07T12:50:00</td>\n",
       "      <td>[https://olhardigital.com.br/fique_seguro/noti...</td>\n",
       "      <td>[aplicativos, android, dicas, google play, jog...</td>\n",
       "      <td>NaN</td>\n",
       "      <td>Cesar Schaeffer</td>\n",
       "      <td>NaN</td>\n",
       "    </tr>\n",
       "    <tr>\n",
       "      <th>658</th>\n",
       "      <td>olhardigital</td>\n",
       "      <td>https://olhardigital.com.br/dicas_e_tutoriais/...</td>\n",
       "      <td>Os melhores aplicativos e jogos da semana para...</td>\n",
       "      <td>Luiz Nogueira</td>\n",
       "      <td>2020-01-31T11:58:00</td>\n",
       "      <td>[https://olhardigital.com.br/fique_seguro/noti...</td>\n",
       "      <td>[aplicativos, android, dicas, google play, jog...</td>\n",
       "      <td>NaN</td>\n",
       "      <td>Cesar Schaeffer</td>\n",
       "      <td>NaN</td>\n",
       "    </tr>\n",
       "    <tr>\n",
       "      <th>808</th>\n",
       "      <td>olhardigital</td>\n",
       "      <td>https://olhardigital.com.br/dicas_e_tutoriais/...</td>\n",
       "      <td>Os melhores aplicativos e jogos da semana para...</td>\n",
       "      <td>Luiz Nogueira</td>\n",
       "      <td>2020-01-24T13:00:00</td>\n",
       "      <td>[https://olhardigital.com.br/noticia/como-a-mi...</td>\n",
       "      <td>[aplicativos, android, dicas, google play, jog...</td>\n",
       "      <td>NaN</td>\n",
       "      <td>Daniel Junqueira</td>\n",
       "      <td>NaN</td>\n",
       "    </tr>\n",
       "    <tr>\n",
       "      <th>1035</th>\n",
       "      <td>olhardigital</td>\n",
       "      <td>https://olhardigital.com.br/cinema-e-streaming...</td>\n",
       "      <td>Os 10 filmes mais pirateados da semana</td>\n",
       "      <td>Daniel Junqueira</td>\n",
       "      <td>2020-01-20T11:05:00</td>\n",
       "      <td>NaN</td>\n",
       "      <td>[filmes, torrent, pirataria, filmes&amp;series]</td>\n",
       "      <td>NaN</td>\n",
       "      <td>NaN</td>\n",
       "      <td>NaN</td>\n",
       "    </tr>\n",
       "  </tbody>\n",
       "</table>\n",
       "</div>"
      ],
      "text/plain": [
       "            spider                                                url  \\\n",
       "274   olhardigital  https://olhardigital.com.br/dicas_e_tutoriais/...   \n",
       "428   olhardigital  https://olhardigital.com.br/dicas_e_tutoriais/...   \n",
       "658   olhardigital  https://olhardigital.com.br/dicas_e_tutoriais/...   \n",
       "808   olhardigital  https://olhardigital.com.br/dicas_e_tutoriais/...   \n",
       "1035  olhardigital  https://olhardigital.com.br/cinema-e-streaming...   \n",
       "\n",
       "                                                 titulo             autor  \\\n",
       "274   Os melhores aplicativos e jogos da semana para...      Alvaro Scola   \n",
       "428   Os melhores aplicativos e jogos da semana para...     Luiz Nogueira   \n",
       "658   Os melhores aplicativos e jogos da semana para...     Luiz Nogueira   \n",
       "808   Os melhores aplicativos e jogos da semana para...     Luiz Nogueira   \n",
       "1035             Os 10 filmes mais pirateados da semana  Daniel Junqueira   \n",
       "\n",
       "          data_publicacao                               conteudo_relacionado  \\\n",
       "274   2020-02-14T10:50:00  [https://olhardigital.com.br/noticia/android-p...   \n",
       "428   2020-02-07T12:50:00  [https://olhardigital.com.br/fique_seguro/noti...   \n",
       "658   2020-01-31T11:58:00  [https://olhardigital.com.br/fique_seguro/noti...   \n",
       "808   2020-01-24T13:00:00  [https://olhardigital.com.br/noticia/como-a-mi...   \n",
       "1035  2020-01-20T11:05:00                                                NaN   \n",
       "\n",
       "                                                   tags referencias  \\\n",
       "274   [aplicativos, android, dicas, google play, jog...         NaN   \n",
       "428   [aplicativos, android, dicas, google play, jog...         NaN   \n",
       "658   [aplicativos, android, dicas, google play, jog...         NaN   \n",
       "808   [aplicativos, android, dicas, google play, jog...         NaN   \n",
       "1035        [filmes, torrent, pirataria, filmes&series]         NaN   \n",
       "\n",
       "               revisor  qtd_comentarios  \n",
       "274                NaN              NaN  \n",
       "428    Cesar Schaeffer              NaN  \n",
       "658    Cesar Schaeffer              NaN  \n",
       "808   Daniel Junqueira              NaN  \n",
       "1035               NaN              NaN  "
      ]
     },
     "execution_count": 55,
     "metadata": {},
     "output_type": "execute_result"
    }
   ],
   "source": [
    "df_noticias_dupl = df_noticias[df_noticias.duplicated(subset=['titulo'])]\n",
    "\n",
    "df_noticias_dupl.head()"
   ]
  },
  {
   "cell_type": "markdown",
   "metadata": {},
   "source": [
    "Por isso, o `titulo` não será utilizado como primary_key e sim a `url`"
   ]
  },
  {
   "cell_type": "code",
   "execution_count": 56,
   "metadata": {},
   "outputs": [
    {
     "data": {
      "text/html": [
       "<div>\n",
       "<style scoped>\n",
       "    .dataframe tbody tr th:only-of-type {\n",
       "        vertical-align: middle;\n",
       "    }\n",
       "\n",
       "    .dataframe tbody tr th {\n",
       "        vertical-align: top;\n",
       "    }\n",
       "\n",
       "    .dataframe thead th {\n",
       "        text-align: right;\n",
       "    }\n",
       "</style>\n",
       "<table border=\"1\" class=\"dataframe\">\n",
       "  <thead>\n",
       "    <tr style=\"text-align: right;\">\n",
       "      <th></th>\n",
       "      <th>spider</th>\n",
       "      <th>url</th>\n",
       "      <th>titulo</th>\n",
       "      <th>autor</th>\n",
       "      <th>data_publicacao</th>\n",
       "      <th>conteudo_relacionado</th>\n",
       "      <th>tags</th>\n",
       "      <th>referencias</th>\n",
       "      <th>revisor</th>\n",
       "      <th>qtd_comentarios</th>\n",
       "    </tr>\n",
       "  </thead>\n",
       "  <tbody>\n",
       "  </tbody>\n",
       "</table>\n",
       "</div>"
      ],
      "text/plain": [
       "Empty DataFrame\n",
       "Columns: [spider, url, titulo, autor, data_publicacao, conteudo_relacionado, tags, referencias, revisor, qtd_comentarios]\n",
       "Index: []"
      ]
     },
     "execution_count": 56,
     "metadata": {},
     "output_type": "execute_result"
    }
   ],
   "source": [
    "df_noticias_dupl = df_noticias[df_noticias.duplicated(subset=['url'])]\n",
    "\n",
    "df_noticias_dupl"
   ]
  },
  {
   "cell_type": "markdown",
   "metadata": {},
   "source": [
    "## Limpa caracteres errados em campos do tipo String\n",
    "\n",
    "Algumas strings foram extraídas com o caracter `\\n` e/ou com uma grande quantidade de espaços (`  exemplo  `). Por isso, foi preciso remover esse caracter e os espaços em branco."
   ]
  },
  {
   "cell_type": "code",
   "execution_count": 7,
   "metadata": {},
   "outputs": [],
   "source": [
    "def remove_(value):\n",
    "    if type(value) == str:\n",
    "        if '\\n' in value:\n",
    "            value = value.replace('\\n', '')\n",
    "        \n",
    "        value = value.strip()\n",
    "    \n",
    "    return value"
   ]
  },
  {
   "cell_type": "code",
   "execution_count": 8,
   "metadata": {},
   "outputs": [],
   "source": [
    "df_noticias['autor'] = df_noticias['autor'].apply(remove_)\n",
    "df_noticias['revisor'] = df_noticias['revisor'].apply(remove_)"
   ]
  },
  {
   "cell_type": "markdown",
   "metadata": {},
   "source": [
    "# Persistir os dados limpos"
   ]
  },
  {
   "cell_type": "code",
   "execution_count": 18,
   "metadata": {},
   "outputs": [],
   "source": [
    "df_noticias.to_json('./noticias.jsonl', orient='records')"
   ]
  },
  {
   "cell_type": "markdown",
   "metadata": {},
   "source": [
    "# Quantidade de noticias por site"
   ]
  },
  {
   "cell_type": "markdown",
   "metadata": {},
   "source": [
    "Mesmo sem ter extraído todas as notícias, já é possível perceber que o TecMundo possuí mais artigos do que o OlharDigital"
   ]
  },
  {
   "cell_type": "code",
   "execution_count": 10,
   "metadata": {},
   "outputs": [
    {
     "data": {
      "text/plain": [
       "spider\n",
       "olhardigital    48000\n",
       "tecmundo        59158\n",
       "Name: titulo, dtype: int64"
      ]
     },
     "execution_count": 10,
     "metadata": {},
     "output_type": "execute_result"
    }
   ],
   "source": [
    "df_noticias.groupby('spider')['titulo'].count()"
   ]
  },
  {
   "cell_type": "code",
   "execution_count": 11,
   "metadata": {},
   "outputs": [
    {
     "data": {
      "text/plain": [
       "(107158, 10)"
      ]
     },
     "execution_count": 11,
     "metadata": {},
     "output_type": "execute_result"
    }
   ],
   "source": [
    "df_noticias.shape"
   ]
  },
  {
   "cell_type": "markdown",
   "metadata": {},
   "source": [
    "# Tags utilizadas\n",
    "\n",
    "Como pode ser observado lá em cima, o campo `tags` possuí uma lista de tags. Por isso aqui nessa etapa será criado um novo DataFrame, onde o `tag` não será uma lista e sim possuirá um unico elemento. Para isso o campo `urls` e outros campos serão repetidos, como pode ser observado a seguir:"
   ]
  },
  {
   "cell_type": "code",
   "execution_count": 12,
   "metadata": {},
   "outputs": [],
   "source": [
    "urls = []\n",
    "titulos = []\n",
    "tags = []\n",
    "spider = []\n",
    "autor = []\n",
    "data_publicacao = []\n",
    "conteudo_relacionado = []\n",
    "referencias = []\n",
    "revisor = [] \n",
    "qtd_comentarios = []\n",
    "\n",
    "for i, tags_ in df_noticias['tags'].items():\n",
    "    elemento = df_noticias.iloc[i]\n",
    "    \n",
    "    if type(tags_) != float:\n",
    "        for tag in tags_:\n",
    "            tag = remove_(tag)\n",
    "            urls.append(elemento.url)\n",
    "            titulos.append(elemento.titulo)\n",
    "            spider.append(elemento.spider)\n",
    "            autor.append(elemento.autor)\n",
    "            data_publicacao.append(elemento.data_publicacao)\n",
    "            conteudo_relacionado.append(elemento.conteudo_relacionado)\n",
    "            referencias.append(elemento.referencias)\n",
    "            revisor.append(elemento.revisor)\n",
    "            qtd_comentarios.append(elemento.qtd_comentarios)\n",
    "            tags.append(tag)\n",
    "\n",
    "            \n",
    "df_tags = pd.DataFrame({'url': urls, 'titulo': titulos, 'spider': spider,\n",
    "                        'tag': tags, 'autor': autor, 'data_publicacao': data_publicacao,\n",
    "                        'conteudo_relacionado': conteudo_relacionado,\n",
    "                        'referencias': referencias, 'revisor': revisor,\n",
    "                        'qtd_comentarios': qtd_comentarios})"
   ]
  },
  {
   "cell_type": "code",
   "execution_count": 9,
   "metadata": {},
   "outputs": [
    {
     "data": {
      "text/html": [
       "<div>\n",
       "<style scoped>\n",
       "    .dataframe tbody tr th:only-of-type {\n",
       "        vertical-align: middle;\n",
       "    }\n",
       "\n",
       "    .dataframe tbody tr th {\n",
       "        vertical-align: top;\n",
       "    }\n",
       "\n",
       "    .dataframe thead th {\n",
       "        text-align: right;\n",
       "    }\n",
       "</style>\n",
       "<table border=\"1\" class=\"dataframe\">\n",
       "  <thead>\n",
       "    <tr style=\"text-align: right;\">\n",
       "      <th></th>\n",
       "      <th>url</th>\n",
       "      <th>titulo</th>\n",
       "      <th>spider</th>\n",
       "      <th>tag</th>\n",
       "      <th>autor</th>\n",
       "      <th>data_publicacao</th>\n",
       "      <th>conteudo_relacionado</th>\n",
       "      <th>referencias</th>\n",
       "      <th>revisor</th>\n",
       "      <th>qtd_comentarios</th>\n",
       "    </tr>\n",
       "  </thead>\n",
       "  <tbody>\n",
       "    <tr>\n",
       "      <th>0</th>\n",
       "      <td>https://olhardigital.com.br/carros-e-tecnologi...</td>\n",
       "      <td>Revelado conceito do primeiro sedan elétrico q...</td>\n",
       "      <td>olhardigital</td>\n",
       "      <td>sustentabilidade</td>\n",
       "      <td>Renato Mota</td>\n",
       "      <td>2020-02-25T12:30:00</td>\n",
       "      <td>[https://olhardigital.com.br/carros-e-tecnolog...</td>\n",
       "      <td>[https://www.theverge.com/2020/2/25/21151592/p...</td>\n",
       "      <td>Fabiana Rolfini</td>\n",
       "      <td>NaN</td>\n",
       "    </tr>\n",
       "    <tr>\n",
       "      <th>1</th>\n",
       "      <td>https://olhardigital.com.br/carros-e-tecnologi...</td>\n",
       "      <td>Revelado conceito do primeiro sedan elétrico q...</td>\n",
       "      <td>olhardigital</td>\n",
       "      <td>carro</td>\n",
       "      <td>Renato Mota</td>\n",
       "      <td>2020-02-25T12:30:00</td>\n",
       "      <td>[https://olhardigital.com.br/carros-e-tecnolog...</td>\n",
       "      <td>[https://www.theverge.com/2020/2/25/21151592/p...</td>\n",
       "      <td>Fabiana Rolfini</td>\n",
       "      <td>NaN</td>\n",
       "    </tr>\n",
       "    <tr>\n",
       "      <th>2</th>\n",
       "      <td>https://olhardigital.com.br/carros-e-tecnologi...</td>\n",
       "      <td>Revelado conceito do primeiro sedan elétrico q...</td>\n",
       "      <td>olhardigital</td>\n",
       "      <td>carro elétrico</td>\n",
       "      <td>Renato Mota</td>\n",
       "      <td>2020-02-25T12:30:00</td>\n",
       "      <td>[https://olhardigital.com.br/carros-e-tecnolog...</td>\n",
       "      <td>[https://www.theverge.com/2020/2/25/21151592/p...</td>\n",
       "      <td>Fabiana Rolfini</td>\n",
       "      <td>NaN</td>\n",
       "    </tr>\n",
       "    <tr>\n",
       "      <th>3</th>\n",
       "      <td>https://olhardigital.com.br/carros-e-tecnologi...</td>\n",
       "      <td>Revelado conceito do primeiro sedan elétrico q...</td>\n",
       "      <td>olhardigital</td>\n",
       "      <td>volvo</td>\n",
       "      <td>Renato Mota</td>\n",
       "      <td>2020-02-25T12:30:00</td>\n",
       "      <td>[https://olhardigital.com.br/carros-e-tecnolog...</td>\n",
       "      <td>[https://www.theverge.com/2020/2/25/21151592/p...</td>\n",
       "      <td>Fabiana Rolfini</td>\n",
       "      <td>NaN</td>\n",
       "    </tr>\n",
       "    <tr>\n",
       "      <th>4</th>\n",
       "      <td>https://olhardigital.com.br/carros-e-tecnologi...</td>\n",
       "      <td>Revelado conceito do primeiro sedan elétrico q...</td>\n",
       "      <td>olhardigital</td>\n",
       "      <td>android automotive</td>\n",
       "      <td>Renato Mota</td>\n",
       "      <td>2020-02-25T12:30:00</td>\n",
       "      <td>[https://olhardigital.com.br/carros-e-tecnolog...</td>\n",
       "      <td>[https://www.theverge.com/2020/2/25/21151592/p...</td>\n",
       "      <td>Fabiana Rolfini</td>\n",
       "      <td>NaN</td>\n",
       "    </tr>\n",
       "  </tbody>\n",
       "</table>\n",
       "</div>"
      ],
      "text/plain": [
       "                                                 url  \\\n",
       "0  https://olhardigital.com.br/carros-e-tecnologi...   \n",
       "1  https://olhardigital.com.br/carros-e-tecnologi...   \n",
       "2  https://olhardigital.com.br/carros-e-tecnologi...   \n",
       "3  https://olhardigital.com.br/carros-e-tecnologi...   \n",
       "4  https://olhardigital.com.br/carros-e-tecnologi...   \n",
       "\n",
       "                                              titulo        spider  \\\n",
       "0  Revelado conceito do primeiro sedan elétrico q...  olhardigital   \n",
       "1  Revelado conceito do primeiro sedan elétrico q...  olhardigital   \n",
       "2  Revelado conceito do primeiro sedan elétrico q...  olhardigital   \n",
       "3  Revelado conceito do primeiro sedan elétrico q...  olhardigital   \n",
       "4  Revelado conceito do primeiro sedan elétrico q...  olhardigital   \n",
       "\n",
       "                  tag        autor      data_publicacao  \\\n",
       "0    sustentabilidade  Renato Mota  2020-02-25T12:30:00   \n",
       "1               carro  Renato Mota  2020-02-25T12:30:00   \n",
       "2      carro elétrico  Renato Mota  2020-02-25T12:30:00   \n",
       "3               volvo  Renato Mota  2020-02-25T12:30:00   \n",
       "4  android automotive  Renato Mota  2020-02-25T12:30:00   \n",
       "\n",
       "                                conteudo_relacionado  \\\n",
       "0  [https://olhardigital.com.br/carros-e-tecnolog...   \n",
       "1  [https://olhardigital.com.br/carros-e-tecnolog...   \n",
       "2  [https://olhardigital.com.br/carros-e-tecnolog...   \n",
       "3  [https://olhardigital.com.br/carros-e-tecnolog...   \n",
       "4  [https://olhardigital.com.br/carros-e-tecnolog...   \n",
       "\n",
       "                                         referencias          revisor  \\\n",
       "0  [https://www.theverge.com/2020/2/25/21151592/p...  Fabiana Rolfini   \n",
       "1  [https://www.theverge.com/2020/2/25/21151592/p...  Fabiana Rolfini   \n",
       "2  [https://www.theverge.com/2020/2/25/21151592/p...  Fabiana Rolfini   \n",
       "3  [https://www.theverge.com/2020/2/25/21151592/p...  Fabiana Rolfini   \n",
       "4  [https://www.theverge.com/2020/2/25/21151592/p...  Fabiana Rolfini   \n",
       "\n",
       "   qtd_comentarios  \n",
       "0              NaN  \n",
       "1              NaN  \n",
       "2              NaN  \n",
       "3              NaN  \n",
       "4              NaN  "
      ]
     },
     "execution_count": 9,
     "metadata": {},
     "output_type": "execute_result"
    }
   ],
   "source": [
    "df_tags.head()"
   ]
  },
  {
   "cell_type": "markdown",
   "metadata": {},
   "source": [
    "Apenas notícias com `tags` foram extraídas."
   ]
  },
  {
   "cell_type": "code",
   "execution_count": 17,
   "metadata": {},
   "outputs": [
    {
     "data": {
      "text/plain": [
       "(59157, 1071580)"
      ]
     },
     "execution_count": 17,
     "metadata": {},
     "output_type": "execute_result"
    }
   ],
   "source": [
    "len(df_tags['url'].unique()), df_noticias.size"
   ]
  },
  {
   "cell_type": "markdown",
   "metadata": {},
   "source": [
    "## Persistir o DataFrame de tags"
   ]
  },
  {
   "cell_type": "code",
   "execution_count": 10,
   "metadata": {},
   "outputs": [],
   "source": [
    "df_tags.to_json('./noticias_tags.jsonl', orient='records')"
   ]
  },
  {
   "cell_type": "markdown",
   "metadata": {},
   "source": [
    "## Principais tags utilizadas\n",
    "\n",
    "Lembrando que a escolha dos nomes foi realizada pelos editores dos portais de notícias. Não posso afirmar qual o critério que eles utilizam. Além disso, uma notícia pode ter mais de uma tag ou nenhuma."
   ]
  },
  {
   "cell_type": "code",
   "execution_count": 11,
   "metadata": {},
   "outputs": [
    {
     "data": {
      "text/plain": [
       "array(['sustentabilidade', 'carro', 'carro elétrico', ..., 'LG K7',\n",
       "       'Motorola DROID Turbo 2', 'Yosemite'], dtype=object)"
      ]
     },
     "execution_count": 11,
     "metadata": {},
     "output_type": "execute_result"
    }
   ],
   "source": [
    "df_tags['tag'].unique()"
   ]
  },
  {
   "cell_type": "markdown",
   "metadata": {},
   "source": [
    "Como os dados foram duplicados, a quantidade de artigos sofreu uma alteração. Mas essa mudança nos informa que o `OlharDigital` insere em seus artigos mais `tags` do que o `TecMundo`"
   ]
  },
  {
   "cell_type": "code",
   "execution_count": 13,
   "metadata": {},
   "outputs": [
    {
     "data": {
      "text/plain": [
       "spider\n",
       "olhardigital    352952\n",
       "tecmundo         52107\n",
       "Name: url, dtype: int64"
      ]
     },
     "execution_count": 13,
     "metadata": {},
     "output_type": "execute_result"
    }
   ],
   "source": [
    "df_tags.groupby(['spider'])['url'].count().nlargest(20)"
   ]
  },
  {
   "cell_type": "code",
   "execution_count": 12,
   "metadata": {},
   "outputs": [
    {
     "data": {
      "text/plain": [
       "spider        tag                    \n",
       "olhardigital  Software                   7542\n",
       "              Internet                   6036\n",
       "              Dispositivos Móveis        5251\n",
       "              Mercado                    5161\n",
       "              google                     5003\n",
       "              Produto                    4652\n",
       "              apple                      4252\n",
       "              Empresas e instituições    4196\n",
       "              Produtos                   4104\n",
       "              android                    3981\n",
       "              Segurança                  3966\n",
       "              Celular                    3929\n",
       "              smartphones                3702\n",
       "tecmundo      Empresas e instituições    3614\n",
       "olhardigital  aplicativos                3363\n",
       "              Cultura Geek               3345\n",
       "              facebook                   3324\n",
       "tecmundo      Entretenimento             3161\n",
       "olhardigital  Ciência                    2981\n",
       "              Apple                      2892\n",
       "Name: url, dtype: int64"
      ]
     },
     "execution_count": 12,
     "metadata": {},
     "output_type": "execute_result"
    }
   ],
   "source": [
    "df_tags.groupby(['spider', 'tag'])['url'].count().nlargest(20)"
   ]
  },
  {
   "cell_type": "markdown",
   "metadata": {},
   "source": [
    "### Por portal de noticia"
   ]
  },
  {
   "cell_type": "markdown",
   "metadata": {},
   "source": [
    "Além disso, o `OlharDigital` fala mais sobre `Software`, `Internet` e `Dispositivos Móveis` do que o `TecMundo`."
   ]
  },
  {
   "cell_type": "code",
   "execution_count": 13,
   "metadata": {},
   "outputs": [
    {
     "data": {
      "text/plain": [
       "tag\n",
       "Software                   7542\n",
       "Internet                   6036\n",
       "Dispositivos Móveis        5251\n",
       "Mercado                    5161\n",
       "google                     5003\n",
       "Produto                    4652\n",
       "apple                      4252\n",
       "Empresas e instituições    4196\n",
       "Produtos                   4104\n",
       "android                    3981\n",
       "Name: url, dtype: int64"
      ]
     },
     "execution_count": 13,
     "metadata": {},
     "output_type": "execute_result"
    }
   ],
   "source": [
    "df_tags[df_tags['spider'] == 'olhardigital'].groupby('tag')['url'].count().nlargest(10)"
   ]
  },
  {
   "cell_type": "code",
   "execution_count": 14,
   "metadata": {},
   "outputs": [
    {
     "data": {
      "text/plain": [
       "tag\n",
       "Empresas e instituições    3614\n",
       "Entretenimento             3161\n",
       "Produtos                   2868\n",
       "Video Game e Jogos         2159\n",
       "Celular                    1875\n",
       "Tecnologia                 1844\n",
       "Internet                   1641\n",
       "Software                   1553\n",
       "Ciência                    1067\n",
       "Sistema operacional        1034\n",
       "Name: url, dtype: int64"
      ]
     },
     "execution_count": 14,
     "metadata": {},
     "output_type": "execute_result"
    }
   ],
   "source": [
    "df_tags[df_tags['spider'] == 'tecmundo'].groupby('tag')['url'].count().nlargest(10)"
   ]
  },
  {
   "cell_type": "markdown",
   "metadata": {},
   "source": [
    "### Por autor\n",
    "\n",
    "Percebemos que autores são alocados para falar de alguns temas especificos."
   ]
  },
  {
   "cell_type": "code",
   "execution_count": 15,
   "metadata": {},
   "outputs": [
    {
     "data": {
      "text/plain": [
       "spider        autor             tag                    \n",
       "olhardigital  Renato  Santino   google                     1085\n",
       "              Leonardo Pereira  Empresas e instituições    1075\n",
       "              Alvaro Scola      dicas&tutoriais            1061\n",
       "                                dicas                      1053\n",
       "              Renato  Santino   Software                    897\n",
       "                                android                     877\n",
       "                                Empresas e instituições     858\n",
       "                                Internet                    849\n",
       "                                microsoft                   819\n",
       "                                smartphones                 783\n",
       "Name: url, dtype: int64"
      ]
     },
     "execution_count": 15,
     "metadata": {},
     "output_type": "execute_result"
    }
   ],
   "source": [
    "df_tags.groupby(['spider', 'autor', 'tag']).count()['url'].nlargest(10)"
   ]
  },
  {
   "cell_type": "markdown",
   "metadata": {},
   "source": [
    "Uma observação, na query acima o `Renato Santino` possuí mais publicações do que o restante dos escritores do OlharDigital. Fazendo uma query parecida no DataFrame com todas as notícias, podemos perceber que isso se repete."
   ]
  },
  {
   "cell_type": "code",
   "execution_count": 14,
   "metadata": {},
   "outputs": [
    {
     "data": {
      "text/plain": [
       "spider        autor           \n",
       "olhardigital  Renato  Santino     6273\n",
       "              Leonardo Pereira    5414\n",
       "              Caroline Rocha      4778\n",
       "tecmundo      Felipe Payão        4262\n",
       "              Léo Müller          4126\n",
       "              Douglas Ciriaco     3688\n",
       "olhardigital  Lucas Carvalho      3241\n",
       "tecmundo      Claudio Yuge        3180\n",
       "              Nilton Kleina       3178\n",
       "olhardigital  Gustavo Sumares     2997\n",
       "Name: titulo, dtype: int64"
      ]
     },
     "execution_count": 14,
     "metadata": {},
     "output_type": "execute_result"
    }
   ],
   "source": [
    "df_noticias.groupby(['spider', 'autor'])['titulo'].count().nlargest(10)"
   ]
  },
  {
   "cell_type": "markdown",
   "metadata": {},
   "source": [
    "# Noticias por data de publicação\n",
    "\n",
    "Fazer uma comparação ano/mês com a quantidade de publicações "
   ]
  },
  {
   "cell_type": "markdown",
   "metadata": {},
   "source": [
    "Se publicou mais no ano de 2016 do que nos outros anos e mais especificamente no mês de Março."
   ]
  },
  {
   "cell_type": "code",
   "execution_count": 18,
   "metadata": {},
   "outputs": [
    {
     "data": {
      "text/plain": [
       "data_publicacao  data_publicacao\n",
       "2016             3                  2393\n",
       "                 2                  2332\n",
       "                 6                  2138\n",
       "2019             10                 2108\n",
       "2016             1                  2106\n",
       "2019             7                  2100\n",
       "2020             1                  2029\n",
       "2017             8                  2012\n",
       "2019             6                  1987\n",
       "                 11                 1984\n",
       "Name: url, dtype: int64"
      ]
     },
     "execution_count": 18,
     "metadata": {},
     "output_type": "execute_result"
    }
   ],
   "source": [
    "times = pd.DatetimeIndex(df_noticias['data_publicacao'])\n",
    "noticias_ano = df_noticias.groupby([times.year, times.month])['url'].count()\n",
    "\n",
    "noticias_ano.nlargest(10)"
   ]
  },
  {
   "cell_type": "markdown",
   "metadata": {},
   "source": [
    "E quem publicou mais nesse período foi o Tecmundo, com 14.497 artigos. \n",
    "\n",
    "Em 2019 ambos publicaram tanto quanto o outro, mas não na mesma quantidade que em 2016."
   ]
  },
  {
   "cell_type": "code",
   "execution_count": 19,
   "metadata": {},
   "outputs": [
    {
     "data": {
      "text/plain": [
       "data_publicacao  spider      \n",
       "2016             tecmundo        14497\n",
       "2017             tecmundo        12457\n",
       "2018             tecmundo        11803\n",
       "2019             tecmundo        11244\n",
       "                 olhardigital    10327\n",
       "2016             olhardigital     8554\n",
       "2017             olhardigital     6336\n",
       "2015             olhardigital     6298\n",
       "2018             olhardigital     6089\n",
       "2013             olhardigital     4280\n",
       "Name: url, dtype: int64"
      ]
     },
     "execution_count": 19,
     "metadata": {},
     "output_type": "execute_result"
    }
   ],
   "source": [
    "times = pd.DatetimeIndex(df_noticias['data_publicacao'])\n",
    "noticias_ano = df_noticias.groupby([times.year, 'spider'])['url'].count()\n",
    "\n",
    "noticias_ano.nlargest(10)"
   ]
  },
  {
   "cell_type": "markdown",
   "metadata": {},
   "source": [
    "# Quantidade de noticias por autor"
   ]
  },
  {
   "cell_type": "markdown",
   "metadata": {},
   "source": [
    "Se for utilizar os dados obtidos, podemos afirmar que os autores do OlharDigital produzem mais do que no TecMundo."
   ]
  },
  {
   "cell_type": "code",
   "execution_count": 25,
   "metadata": {},
   "outputs": [
    {
     "data": {
      "text/plain": [
       "spider        autor           \n",
       "olhardigital  Renato  Santino     6273\n",
       "              Leonardo Pereira    5414\n",
       "              Caroline Rocha      4778\n",
       "tecmundo      Felipe Payão        4262\n",
       "              Léo Müller          4126\n",
       "              Douglas Ciriaco     3688\n",
       "olhardigital  Lucas Carvalho      3241\n",
       "tecmundo      Claudio Yuge        3180\n",
       "              Nilton Kleina       3178\n",
       "olhardigital  Gustavo Sumares     2997\n",
       "Name: url, dtype: int64"
      ]
     },
     "execution_count": 25,
     "metadata": {},
     "output_type": "execute_result"
    }
   ],
   "source": [
    "df_noticias.groupby(['spider', 'autor'])['url'].count().nlargest(10)"
   ]
  },
  {
   "cell_type": "markdown",
   "metadata": {},
   "source": [
    "## Informações sobre os revisores"
   ]
  },
  {
   "cell_type": "markdown",
   "metadata": {},
   "source": [
    "Apenas o OlharDigital fornece informações sobre os revisores, mas nem todos os artigos do OlharDigital possuem revisores."
   ]
  },
  {
   "cell_type": "code",
   "execution_count": 33,
   "metadata": {},
   "outputs": [
    {
     "data": {
      "text/plain": [
       "85063"
      ]
     },
     "execution_count": 33,
     "metadata": {},
     "output_type": "execute_result"
    }
   ],
   "source": [
    "len(df_noticias[df_noticias['revisor'].isna()])"
   ]
  },
  {
   "cell_type": "markdown",
   "metadata": {},
   "source": [
    "Outra informação que podemos retirar é que autores também trabalham como revisores e vice-versa"
   ]
  },
  {
   "cell_type": "code",
   "execution_count": 26,
   "metadata": {},
   "outputs": [
    {
     "data": {
      "text/plain": [
       "spider        revisor           \n",
       "olhardigital  Marcelo Gripa         5739\n",
       "              Leonardo Pereira      3450\n",
       "              Renato  Santino       1669\n",
       "              Rui Maciel            1595\n",
       "              Cesar Schaeffer       1502\n",
       "              Daniel Junqueira      1379\n",
       "              Matheus Luque         1139\n",
       "              Liliane Nakagawa       933\n",
       "              Roseli Andrion         594\n",
       "              Lucas Carvalho         539\n",
       "              Rafael Rigues          538\n",
       "              Gustavo Sumares        535\n",
       "              Maria Lutfi            516\n",
       "              Camila Rinaldi         441\n",
       "              Caroline Rocha         425\n",
       "              Wharrysson Lacerda     277\n",
       "              Rodrigo Loureiro       165\n",
       "              Stephanie Kohn         139\n",
       "              Fabiana Rolfini        103\n",
       "              Elson de Souza         100\n",
       "Name: url, dtype: int64"
      ]
     },
     "execution_count": 26,
     "metadata": {},
     "output_type": "execute_result"
    }
   ],
   "source": [
    "df_noticias.groupby(['spider', 'revisor'])['url'].count().nlargest(20)"
   ]
  },
  {
   "cell_type": "markdown",
   "metadata": {},
   "source": [
    "Podemos perceber também que revisores trabalham com varios autores, assim como alguns autores. "
   ]
  },
  {
   "cell_type": "code",
   "execution_count": 24,
   "metadata": {},
   "outputs": [
    {
     "data": {
      "text/plain": [
       "spider        autor               revisor         \n",
       "olhardigital  Caroline Rocha      Marcelo Gripa       957\n",
       "                                  Leonardo Pereira    695\n",
       "              Renato  Santino     Marcelo Gripa       666\n",
       "              Gustavo Sumares     Marcelo Gripa       599\n",
       "                                  Leonardo Pereira    553\n",
       "              Renato  Santino     Leonardo Pereira    523\n",
       "              Juliana  AmÃ©rico   Leonardo Pereira    498\n",
       "              Jeferson Goncalves  Marcelo Gripa       427\n",
       "              Kaluan Bernardo     Marcelo Gripa       407\n",
       "              Juliana  AmÃ©rico   Marcelo Gripa       396\n",
       "              Leonardo Pereira    Marcelo Gripa       361\n",
       "              Jeferson Goncalves  Gustavo Sumares     335\n",
       "              Luiz Nogueira       Matheus Luque       294\n",
       "              Lucas Carvalho      Leonardo Pereira    291\n",
       "                                  Marcelo Gripa       287\n",
       "              Jeferson Goncalves  Caroline Rocha      276\n",
       "              Thiago Brizola      Marcelo Gripa       272\n",
       "              Luccas Franklin     Marcelo Gripa       269\n",
       "              Guilherme Preta     Matheus Luque       265\n",
       "              Rodrigo Loureiro    Leonardo Pereira    251\n",
       "Name: url, dtype: int64"
      ]
     },
     "execution_count": 24,
     "metadata": {},
     "output_type": "execute_result"
    }
   ],
   "source": [
    "df_noticias.groupby(['spider', 'autor', 'revisor'])['url'].count().nlargest(20)"
   ]
  }
 ],
 "metadata": {
  "kernelspec": {
   "display_name": "Python 3",
   "language": "python",
   "name": "python3"
  },
  "language_info": {
   "codemirror_mode": {
    "name": "ipython",
    "version": 3
   },
   "file_extension": ".py",
   "mimetype": "text/x-python",
   "name": "python",
   "nbconvert_exporter": "python",
   "pygments_lexer": "ipython3",
   "version": "3.8.1"
  },
  "toc": {
   "base_numbering": 1,
   "nav_menu": {},
   "number_sections": true,
   "sideBar": true,
   "skip_h1_title": false,
   "title_cell": "Table of Contents",
   "title_sidebar": "Contents",
   "toc_cell": false,
   "toc_position": {},
   "toc_section_display": true,
   "toc_window_display": false
  }
 },
 "nbformat": 4,
 "nbformat_minor": 4
}
